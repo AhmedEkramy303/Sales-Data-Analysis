{
 "cells": [
  {
   "cell_type": "markdown",
   "metadata": {},
   "source": [
    "# 📊 Advanced Sales Data Analysis\n",
    "Comprehensive analysis of sales records: revenue trends, product insights, and time-based breakdowns."
   ]
  },
  {
   "cell_type": "code",
   "metadata": {},
   "source": [
    "import pandas as pd\n",
    "import matplotlib.pyplot as plt\n",
    "import seaborn as sns\n",
    "import numpy as np\n",
    "\n",
    "df = pd.read_csv('sales_data.csv')\n",
    "df['Date'] = pd.to_datetime(df['Date'])\n",
    "df['Revenue'] = df['Quantity'] * df['Price']\n",
    "df['Day'] = df['Date'].dt.day_name()\n",
    "df['Month'] = df['Date'].dt.to_period('M')\n",
    "df.head()"
   ]
  },
  {
   "cell_type": "markdown",
   "metadata": {},
   "source": [
    "## 🧮 Summary Statistics"
   ]
  },
  {
   "cell_type": "code",
   "metadata": {},
   "source": [
    "df.describe()"
   ]
  },
  {
   "cell_type": "markdown",
   "metadata": {},
   "source": [
    "## 📈 Monthly Revenue Trend"
   ]
  },
  {
   "cell_type": "code",
   "metadata": {},
   "source": [
    "monthly_revenue = df.groupby('Month')['Revenue'].sum()\n",
    "monthly_revenue.plot(kind='line', title='Monthly Revenue', figsize=(10,5))\n",
    "plt.ylabel('Revenue')\n",
    "plt.grid(True)\n",
    "plt.show()"
   ]
  },
  {
   "cell_type": "markdown",
   "metadata": {},
   "source": [
    "## 🔝 Top Selling Products"
   ]
  },
  {
   "cell_type": "code",
   "metadata": {},
   "source": [
    "top_products = df.groupby('Product')['Quantity'].sum().sort_values(ascending=False).head(10)\n",
    "top_products.plot(kind='bar', title='Top Selling Products', figsize=(10,5))\n",
    "plt.ylabel('Units Sold')\n",
    "plt.grid(True)\n",
    "plt.show()"
   ]
  },
  {
   "cell_type": "markdown",
   "metadata": {},
   "source": [
    "## 🗓️ Sales by Day of Week"
   ]
  },
  {
   "cell_type": "code",
   "metadata": {},
   "source": [
    "day_sales = df.groupby('Day')['Revenue'].sum().reindex(['Monday','Tuesday','Wednesday','Thursday','Friday','Saturday','Sunday'])\n",
    "day_sales.plot(kind='bar', title='Revenue by Day', figsize=(8,5))\n",
    "plt.grid(True)\n",
    "plt.show()"
   ]
  },
  {
   "cell_type": "markdown",
   "metadata": {},
   "source": [
    "## 🔍 Heatmap of Sales by Day & Product"
   ]
  },
  {
   "cell_type": "code",
   "metadata": {},
   "source": [
    "heatmap_data = pd.pivot_table(df, values='Revenue', index='Product', columns='Day', aggfunc='sum').fillna(0)\n",
    "plt.figure(figsize=(10,6))\n",
    "sns.heatmap(heatmap_data, cmap='YlGnBu', annot=True, fmt='.0f')\n",
    "plt.title('Revenue by Product and Day of Week')\n",
    "plt.show()"
   ]
  }
 ],
 "metadata": {
  "kernelspec": {
   "display_name": "Python 3",
   "language": "python",
   "name": "python3"
  },
  "language_info": {
   "name": "python"
  }
 },
 "nbformat": 4,
 "nbformat_minor": 2
}
